{
 "cells": [
  {
   "cell_type": "markdown",
   "metadata": {},
   "source": [
    "# Download the data\n",
    "\n",
    "We will just download FinGPT's data due to the following (from the README in the outer directory):\n",
    "\n",
    "For the datasets we used, download our processed instruction tuning data from huggingface. Take FinRED dataset as an example:\n",
    "```\n",
    "import datasets\n",
    "\n",
    "dataset = datasets.load_dataset('FinGPT/fingpt-finred')\n",
    "# save to local disk space (recommended)\n",
    "dataset.save_to_disk('data/fingpt-finred')\n",
    "```\n",
    "Then `finred` became an available task option for training.\n",
    "\n",
    "We use different datasets at different phases of our instruction tuning paradigm.\n",
    "- Task-specific Instruction Tuning: `sentiment-train / finred-re / ner / headline`\n",
    "- Multi-task Instruction Tuning: `sentiment-train & finred & ner & headline`\n",
    "- Zero-shot Aimed Instruction Tuning: `finred-cls & ner-cls & headline-cls -> sentiment-cls (test)`\n",
    "\n",
    "You may download the datasets according to your needs. We also provide processed datasets for ConvFinQA and FinEval, but they are not used in our final work.\n",
    "\n",
    "### prepare data from scratch\n",
    "To prepare training data from raw data, you should follow `data/prepate_data.ipynb`. \n",
    "\n",
    "We don't include any source data from other open-source financial datasets in our repository. So if you want to do it from scratch, you need to find the corresponding source data and put them in `data/` before you start. \n"
   ]
  },
  {
   "cell_type": "code",
   "execution_count": 8,
   "metadata": {},
   "outputs": [],
   "source": [
    "import os\n",
    "import shutil\n",
    "file_paths = ['twitter-financial-news-sentiment', 'news_with_gpt_instructions', 'financial_phrasebank-sentences_50agree', 'fiqa-2018']\n",
    "\n",
    "for file_path in file_paths:\n",
    "    if os.path.exists(file_path):\n",
    "        shutil.rmtree(file_path)\n"
   ]
  },
  {
   "cell_type": "code",
   "execution_count": 7,
   "metadata": {},
   "outputs": [
    {
     "name": "stderr",
     "output_type": "stream",
     "text": [
      "Downloading data: 100%|██████████| 161k/161k [00:00<00:00, 644kB/s]\n",
      "Downloading data: 100%|██████████| 16.7k/16.7k [00:00<00:00, 153kB/s]\n",
      "Downloading data: 100%|██████████| 25.3k/25.3k [00:00<00:00, 247kB/s]\n",
      "Generating train split: 961 examples [00:00, 8255.54 examples/s]\n",
      "Generating validation split: 102 examples [00:00, 23061.78 examples/s]\n",
      "Generating test split: 150 examples [00:00, 28996.89 examples/s]\n",
      "Saving the dataset (1/1 shards): 100%|██████████| 961/961 [00:00<00:00, 124832.80 examples/s]\n",
      "Saving the dataset (1/1 shards): 100%|██████████| 102/102 [00:00<00:00, 18930.88 examples/s]\n",
      "Saving the dataset (1/1 shards): 100%|██████████| 150/150 [00:00<00:00, 27232.20 examples/s]\n",
      "Downloading data: 100%|██████████| 392k/392k [00:00<00:00, 1.17MB/s]\n",
      "Generating train split: 100%|██████████| 4846/4846 [00:00<00:00, 161690.26 examples/s]\n",
      "Saving the dataset (1/1 shards): 100%|██████████| 4846/4846 [00:00<00:00, 183019.51 examples/s]\n",
      "Downloading readme: 100%|██████████| 1.39k/1.39k [00:00<00:00, 7.91MB/s]\n",
      "Downloading data: 100%|██████████| 859k/859k [00:00<00:00, 1.73MB/s]\n",
      "Downloading data: 100%|██████████| 217k/217k [00:00<00:00, 1.81MB/s]\n",
      "Generating train split: 9543 examples [00:00, 358638.81 examples/s]\n",
      "Generating validation split: 2388 examples [00:00, 276968.12 examples/s]\n",
      "Saving the dataset (1/1 shards): 100%|██████████| 9543/9543 [00:00<00:00, 1255685.88 examples/s]\n",
      "Saving the dataset (1/1 shards): 100%|██████████| 2388/2388 [00:00<00:00, 472653.39 examples/s]\n",
      "Downloading readme: 100%|██████████| 682/682 [00:00<00:00, 5.12MB/s]\n",
      "Downloading data: 100%|██████████| 10.8M/10.8M [00:03<00:00, 3.49MB/s]\n",
      "Downloading data: 100%|██████████| 2.73M/2.73M [00:01<00:00, 2.05MB/s]\n",
      "Generating train split: 100%|██████████| 16184/16184 [00:00<00:00, 316172.32 examples/s]\n",
      "Generating test split: 100%|██████████| 4047/4047 [00:00<00:00, 219886.37 examples/s]\n",
      "Saving the dataset (1/1 shards): 100%|██████████| 16184/16184 [00:00<00:00, 274589.07 examples/s]\n",
      "Saving the dataset (1/1 shards): 100%|██████████| 4047/4047 [00:00<00:00, 340031.02 examples/s]\n"
     ]
    }
   ],
   "source": [
    "# Load and save the datasets\n",
    "from datasets import load_dataset\n",
    "\n",
    "dataset = load_dataset('pauri32/fiqa-2018')\n",
    "dataset.save_to_disk('fiqa-2018')\n",
    "\n",
    "dataset = load_dataset('financial_phrasebank', 'sentences_50agree')\n",
    "dataset.save_to_disk('financial_phrasebank-sentences_50agree')\n",
    "\n",
    "dataset = load_dataset('zeroshot/twitter-financial-news-sentiment')\n",
    "dataset.save_to_disk('twitter-financial-news-sentiment')\n",
    "\n",
    "dataset = load_dataset('oliverwang15/news_with_gpt_instructions')\n",
    "dataset.save_to_disk('news_with_gpt_instructions')"
   ]
  },
  {
   "cell_type": "code",
   "execution_count": 6,
   "metadata": {},
   "outputs": [
    {
     "name": "stderr",
     "output_type": "stream",
     "text": [
      "Saving the dataset (1/1 shards): 100%|██████████| 27558/27558 [00:00<00:00, 854696.79 examples/s]\n",
      "Saving the dataset (1/1 shards): 100%|██████████| 5112/5112 [00:00<00:00, 548566.80 examples/s]\n"
     ]
    }
   ],
   "source": [
    "# dataset = datasets.load_dataset('FinGPT/fingpt-finred')\n",
    "# dataset.save_to_disk('fingpt-finred-re')\n",
    "\n",
    "# dataset = datasets.load_dataset('FinGPT/fingpt-headline')\n",
    "# dataset.save_to_disk('fingpt-headline')\n",
    "\n",
    "# dataset = datasets.load_dataset('FinGPT/fingpt-ner')\n",
    "# dataset.save_to_disk('fingpt-ner')\n",
    "\n",
    "# dataset = datasets.load_dataset('pauri32/fiqa-2018')\n",
    "# dataset.save_to_disk('fiqa-2018')\n",
    "\n",
    "\n",
    "# dataset = datasets.load_dataset('FinGPT/fingpt-fineval')\n",
    "# dataset.save_to_disk('fingpt-fineval')"
   ]
  }
 ],
 "metadata": {
  "kernelspec": {
   "display_name": ".venv",
   "language": "python",
   "name": "python3"
  },
  "language_info": {
   "codemirror_mode": {
    "name": "ipython",
    "version": 3
   },
   "file_extension": ".py",
   "mimetype": "text/x-python",
   "name": "python",
   "nbconvert_exporter": "python",
   "pygments_lexer": "ipython3",
   "version": "3.11.8"
  }
 },
 "nbformat": 4,
 "nbformat_minor": 2
}

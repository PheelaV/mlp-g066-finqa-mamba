{
 "cells": [
  {
   "cell_type": "markdown",
   "metadata": {},
   "source": [
    "# Download the data\n",
    "\n",
    "We will just download FinGPT's data due to the following (from the README in the outer directory):\n",
    "\n",
    "For the datasets we used, download our processed instruction tuning data from huggingface. Take FinRED dataset as an example:\n",
    "```\n",
    "import datasets\n",
    "\n",
    "dataset = datasets.load_dataset('FinGPT/fingpt-finred')\n",
    "# save to local disk space (recommended)\n",
    "dataset.save_to_disk('data/fingpt-finred')\n",
    "```\n",
    "Then `finred` became an available task option for training.\n",
    "\n",
    "We use different datasets at different phases of our instruction tuning paradigm.\n",
    "- Task-specific Instruction Tuning: `sentiment-train / finred-re / ner / headline`\n",
    "- Multi-task Instruction Tuning: `sentiment-train & finred & ner & headline`\n",
    "- Zero-shot Aimed Instruction Tuning: `finred-cls & ner-cls & headline-cls -> sentiment-cls (test)`\n",
    "\n",
    "You may download the datasets according to your needs. We also provide processed datasets for ConvFinQA and FinEval, but they are not used in our final work.\n",
    "\n",
    "### prepare data from scratch\n",
    "To prepare training data from raw data, you should follow `data/prepate_data.ipynb`. \n",
    "\n",
    "We don't include any source data from other open-source financial datasets in our repository. So if you want to do it from scratch, you need to find the corresponding source data and put them in `data/` before you start. \n"
   ]
  },
  {
   "cell_type": "markdown",
   "metadata": {},
   "source": [
    "## Instruction Tuning Datasets and Models\n",
    "The datasets we used, and the **multi-task financial LLM** models are available at <https://huggingface.co/FinGPT>\n",
    "\n",
    "[Our Code](https://github.com/AI4Finance-Foundation/FinGPT/tree/master/fingpt/FinGPT_Benchmark)\n",
    "  \n",
    "  | Datasets | Train Rows |  Test Rows |Description  |\n",
    "  | --------- | ----------------- | ------------ | --------------------- |\n",
    "  | [fingpt-sentiment-train](https://huggingface.co/datasets/FinGPT/fingpt-sentiment-train) | 76.8K | N/A|Sentiment Analysis Training Instructions |\n",
    "  | [fingpt-finred](https://huggingface.co/datasets/FinGPT/fingpt-finred)| 27.6k | 5.11k | Financial Relation Extraction Instructions |\n",
    "  | [fingpt-headline](https://huggingface.co/datasets/FinGPT/fingpt-headline) | 82.2k | 20.5k | Financial Headline Analysis Instructions|\n",
    "  | [fingpt-ner](https://huggingface.co/datasets/FinGPT/fingpt-ner) | 511   | 98  | Financial Named-Entity Recognition Instructions|\n",
    "  | [fingpt-fiqa_qa](https://huggingface.co/datasets/FinGPT/fingpt-fiqa_qa) | 17.1k   | N/A  | Financial Q&A Instructions|\n",
    "  | [fingpt-fineval](https://huggingface.co/datasets/FinGPT/fingpt-fineval) | 1.06k   | 265  | Chinese Multiple-Choice Questions Instructions|\n",
    "\n",
    "\n"
   ]
  },
  {
   "cell_type": "code",
   "execution_count": 3,
   "metadata": {},
   "outputs": [],
   "source": [
    "import os\n",
    "import shutil\n",
    "file_paths = ['fingpt-sentiment-train', 'fingpt-finred-re', 'fingpt-headline', 'fingpt-ner', 'fingpt-fiqa_qa', 'fingpt-fineval']\n",
    "\n",
    "for file_path in file_paths:\n",
    "    if os.path.exists(file_path):\n",
    "        shutil.rmtree(file_path)\n"
   ]
  },
  {
   "cell_type": "code",
   "execution_count": 4,
   "metadata": {},
   "outputs": [
    {
     "name": "stderr",
     "output_type": "stream",
     "text": [
      "Saving the dataset (1/1 shards): 100%|██████████| 27558/27558 [00:00<00:00, 765793.87 examples/s]\n",
      "Saving the dataset (1/1 shards): 100%|██████████| 5112/5112 [00:00<00:00, 104355.93 examples/s]\n"
     ]
    }
   ],
   "source": [
    "# Load and save the datasets\n",
    "import datasets\n",
    "\n",
    "dataset = datasets.load_dataset(\"FinGPT/fingpt-finred\")\n",
    "dataset.save_to_disk('fingpt-finred-re')"
   ]
  },
  {
   "cell_type": "code",
   "execution_count": null,
   "metadata": {},
   "outputs": [],
   "source": [
    "dataset = datasets.load_dataset(\"FinGPT/fingpt-finred\")\n",
    "dataset.save_to_disk('fingpt-finred')\n",
    "\n",
    "dataset = datasets.load_dataset(\"FinGPT/fingpt-headline\")\n",
    "dataset.save_to_disk('fingpt-headline')\n",
    "\n",
    "dataset = datasets.load_dataset(\"FinGPT/fingpt-ner\")\n",
    "dataset.save_to_disk('fingpt-ner')\n",
    "\n",
    "dataset = datasets.load_dataset(\"FinGPT/fingpt-fiqa_qa\")\n",
    "dataset.save_to_disk('fingpt-fiqa_qa')\n",
    "\n",
    "dataset = datasets.load_dataset(\"FinGPT/fingpt-fineval\")\n",
    "dataset.save_to_disk('fingpt-fineval')"
   ]
  }
 ],
 "metadata": {
  "kernelspec": {
   "display_name": ".venv",
   "language": "python",
   "name": "python3"
  },
  "language_info": {
   "codemirror_mode": {
    "name": "ipython",
    "version": 3
   },
   "file_extension": ".py",
   "mimetype": "text/x-python",
   "name": "python",
   "nbconvert_exporter": "python",
   "pygments_lexer": "ipython3",
   "version": "3.11.8"
  }
 },
 "nbformat": 4,
 "nbformat_minor": 2
}
